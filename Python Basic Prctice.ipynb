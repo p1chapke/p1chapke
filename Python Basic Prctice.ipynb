{
  "nbformat": 4,
  "nbformat_minor": 0,
  "metadata": {
    "colab": {
      "name": "Untitled0.ipynb",
      "provenance": [],
      "authorship_tag": "ABX9TyPxifVCxCzFpPWgnBRhmcRR",
      "include_colab_link": true
    },
    "kernelspec": {
      "name": "python3",
      "display_name": "Python 3"
    },
    "language_info": {
      "name": "python"
    }
  },
  "cells": [
    {
      "cell_type": "markdown",
      "metadata": {
        "id": "view-in-github",
        "colab_type": "text"
      },
      "source": [
        "<a href=\"https://colab.research.google.com/github/p1chapke/p1chapke/blob/main/Python%20Basic%20Prctice.ipynb\" target=\"_parent\"><img src=\"https://colab.research.google.com/assets/colab-badge.svg\" alt=\"Open In Colab\"/></a>"
      ]
    },
    {
      "cell_type": "code",
      "source": [
        "dist_km = float(input(\"Print KM to convert into Miles:\"))\n",
        "print(\"You've entered:\", dist_km)\n",
        "dist_miles = dist_km * 0.621371\n",
        "print(\"Distance in Miles is\", dist_miles)"
      ],
      "metadata": {
        "colab": {
          "base_uri": "https://localhost:8080/"
        },
        "id": "i1dw7d85q0LU",
        "outputId": "8fc4947e-7d1e-4454-d3c7-dd6bfd96114b"
      },
      "execution_count": 11,
      "outputs": [
        {
          "output_type": "stream",
          "name": "stdout",
          "text": [
            "Print KM to convert into Miles:564.5\n",
            "You've entered: 564.5\n",
            "Distance in Miles is 350.7639295\n"
          ]
        }
      ]
    },
    {
      "cell_type": "code",
      "source": [
        "age = 22\n",
        "gpa = 3.8\n",
        "result = age >=18 and gpa > 3.9\n",
        "print(result)"
      ],
      "metadata": {
        "colab": {
          "base_uri": "https://localhost:8080/"
        },
        "id": "WjieTvDc3CGw",
        "outputId": "b72c5e94-7a19-426b-bb6d-ddc869f35c83"
      },
      "execution_count": 15,
      "outputs": [
        {
          "output_type": "stream",
          "name": "stdout",
          "text": [
            "False\n"
          ]
        }
      ]
    },
    {
      "cell_type": "code",
      "source": [
        "language = \"Python\"\n",
        "print(\"1.\", language == \"python\")\n",
        "\n",
        "age = 18\n",
        "print(\"2.\", age >=18)\n",
        "print(\"3.\", age >18)\n",
        "print(\"4.\", age >=18 and language == \"Java\")"
      ],
      "metadata": {
        "colab": {
          "base_uri": "https://localhost:8080/"
        },
        "id": "KQVvy8NS3ObN",
        "outputId": "83a28aff-9db7-4816-a922-b866b2b639d3"
      },
      "execution_count": 16,
      "outputs": [
        {
          "output_type": "stream",
          "name": "stdout",
          "text": [
            "1. False\n",
            "2. True\n",
            "3. False\n",
            "4. False\n"
          ]
        }
      ]
    },
    {
      "cell_type": "code",
      "source": [
        "#if else statement\n",
        "score = int(input(\"ENter your score: \"))\n",
        "\n",
        "if score >=50:\n",
        "  print(\"Congratulations, You've passed your exam\")"
      ],
      "metadata": {
        "colab": {
          "base_uri": "https://localhost:8080/"
        },
        "id": "xRnMHXrT4Vd4",
        "outputId": "1e545820-ed0b-4d7a-8c51-5768ba2ecc0e"
      },
      "execution_count": 19,
      "outputs": [
        {
          "output_type": "stream",
          "name": "stdout",
          "text": [
            "ENter your score: 55\n",
            "Congratulations, You've passed your exam\n"
          ]
        }
      ]
    },
    {
      "cell_type": "code",
      "source": [
        "#if else statement\n",
        "score = int(input(\"ENter your score: \"))\n",
        "\n",
        "if score >=50:\n",
        "  print(\"Congratulations, You've passed your exam\")\n",
        "\n",
        "if score <50:\n",
        "  print(\"Sorry, You've failed the exam\")"
      ],
      "metadata": {
        "colab": {
          "base_uri": "https://localhost:8080/"
        },
        "id": "kHqikPNN-w-2",
        "outputId": "fb50f522-a1e9-4bf0-ea5e-b0a0b22aac47"
      },
      "execution_count": 20,
      "outputs": [
        {
          "output_type": "stream",
          "name": "stdout",
          "text": [
            "ENter your score: 35\n",
            "Sorry, You've failed the exam\n"
          ]
        }
      ]
    },
    {
      "cell_type": "code",
      "source": [
        "score = 35\n",
        "\n",
        "if score >=50:\n",
        "  print(\"Congratulations, You've passed your exam\")\n",
        "\n",
        "else:\n",
        "  print(\"Sorry, You've failed the exam\")"
      ],
      "metadata": {
        "colab": {
          "base_uri": "https://localhost:8080/"
        },
        "id": "cZzKrEIK_FPr",
        "outputId": "3c5a0025-29f1-4166-c7cc-459f03740f10"
      },
      "execution_count": 22,
      "outputs": [
        {
          "output_type": "stream",
          "name": "stdout",
          "text": [
            "Sorry, You've failed the exam\n"
          ]
        }
      ]
    },
    {
      "cell_type": "code",
      "source": [
        "score = 105\n",
        "if score > 100 or score <0:\n",
        "  print(\"Score is Invalid\")\n",
        "\n",
        "elif score >=50:\n",
        "  print(\"Congratulations, You've passed your exam\")\n",
        "\n",
        "else:\n",
        "  print(\"Sorry, You've failed the exam\")"
      ],
      "metadata": {
        "colab": {
          "base_uri": "https://localhost:8080/"
        },
        "id": "5SlhCfNX_uT2",
        "outputId": "bf41e1da-e423-4487-bbbe-5c3dcde6a9aa"
      },
      "execution_count": 24,
      "outputs": [
        {
          "output_type": "stream",
          "name": "stdout",
          "text": [
            "Score is Invalid\n"
          ]
        }
      ]
    },
    {
      "cell_type": "code",
      "source": [
        "num = int(input(\"Enter a number to check: \"))\n",
        "\n",
        "if num > 0:\n",
        "  print(\"Number is a positive integer\")\n",
        "\n",
        "elif num == 0:\n",
        "  print(\"Number is a Zero\")\n",
        "\n",
        "else:\n",
        "  print(\"Number is a negative integer\") "
      ],
      "metadata": {
        "colab": {
          "base_uri": "https://localhost:8080/"
        },
        "id": "NY_2fznWAcZU",
        "outputId": "5f1d3147-76ae-4d9e-87ca-a88b986bd6ca"
      },
      "execution_count": 27,
      "outputs": [
        {
          "output_type": "stream",
          "name": "stdout",
          "text": [
            "Enter a number to check: -1\n",
            "Number is a negative integer\n"
          ]
        }
      ]
    },
    {
      "cell_type": "code",
      "source": [
        "num = int(input(\"Enter a number to check: \"))\n",
        "\n",
        "if num > 0:\n",
        "  print(\"Number is a positive integer\")\n",
        "\n",
        "elif num == 0:\n",
        "  print(\"Number is a Zero\")\n",
        "\n",
        "else:\n",
        "  print(\"Number is a negative integer\")"
      ],
      "metadata": {
        "colab": {
          "base_uri": "https://localhost:8080/"
        },
        "id": "wBjJIb2iBQVP",
        "outputId": "af35aea4-6f15-4f21-e150-11b38f5dc52f"
      },
      "execution_count": 29,
      "outputs": [
        {
          "output_type": "stream",
          "name": "stdout",
          "text": [
            "Enter a number to check: 5\n",
            "Number is a positive integer\n"
          ]
        }
      ]
    },
    {
      "cell_type": "code",
      "source": [
        "num = float(input(\"Enter a number: \"))\n",
        "\n",
        "if num >= 0:\n",
        "\n",
        "  if num > 0:\n",
        "    print(\"Number is Positive\")\n",
        "\n",
        "  else:\n",
        "    print(\"Number is zero\")\n",
        "\n",
        "else:\n",
        "  print (\"Number is Neagtive\")"
      ],
      "metadata": {
        "colab": {
          "base_uri": "https://localhost:8080/"
        },
        "id": "VoL9j04xCYYI",
        "outputId": "7e6a3a16-7b36-4201-d852-2ffc82b186d0"
      },
      "execution_count": 32,
      "outputs": [
        {
          "output_type": "stream",
          "name": "stdout",
          "text": [
            "Enter a number: 0\n",
            "Number is zero\n"
          ]
        }
      ]
    },
    {
      "cell_type": "code",
      "source": [
        "n = 0\n",
        "\n",
        "while n<5:\n",
        "  print (\"I'm inside a loop\")\n",
        "  n = n+1"
      ],
      "metadata": {
        "colab": {
          "base_uri": "https://localhost:8080/"
        },
        "id": "KqherxDjC3DL",
        "outputId": "f3366166-bba7-4427-a59e-4be57988f686"
      },
      "execution_count": 33,
      "outputs": [
        {
          "output_type": "stream",
          "name": "stdout",
          "text": [
            "I'm inside a loop\n",
            "I'm inside a loop\n",
            "I'm inside a loop\n",
            "I'm inside a loop\n",
            "I'm inside a loop\n"
          ]
        }
      ]
    },
    {
      "cell_type": "code",
      "source": [
        "n = 0\n",
        "\n",
        "while n<5:\n",
        "  print (n)\n",
        "  n = n+1"
      ],
      "metadata": {
        "colab": {
          "base_uri": "https://localhost:8080/"
        },
        "id": "FYWnueWFLjA8",
        "outputId": "60309e54-24a8-4a9c-cc74-23b7d33afc3d"
      },
      "execution_count": 34,
      "outputs": [
        {
          "output_type": "stream",
          "name": "stdout",
          "text": [
            "0\n",
            "1\n",
            "2\n",
            "3\n",
            "4\n"
          ]
        }
      ]
    },
    {
      "cell_type": "code",
      "source": [
        "n = 5\n",
        "\n",
        "while n<=10:\n",
        "  print (n)\n",
        "  n = n+1"
      ],
      "metadata": {
        "colab": {
          "base_uri": "https://localhost:8080/"
        },
        "id": "8LUHy1_iLnaZ",
        "outputId": "0c0d23fa-58ea-454b-9dd2-80aa35679d43"
      },
      "execution_count": 36,
      "outputs": [
        {
          "output_type": "stream",
          "name": "stdout",
          "text": [
            "5\n",
            "6\n",
            "7\n",
            "8\n",
            "9\n",
            "10\n"
          ]
        }
      ]
    },
    {
      "cell_type": "code",
      "source": [
        "n = int(input(\"Enter a Number\"))\n",
        "\n",
        "count = 1\n",
        "while count<=10:\n",
        "  product = n * count\n",
        "  print(n, \"x\" , count, \"=\", product)\n",
        "  count = count+1"
      ],
      "metadata": {
        "colab": {
          "base_uri": "https://localhost:8080/"
        },
        "id": "omED7jrLLu8p",
        "outputId": "de290c4b-229c-46f3-8661-3a458ac255ce"
      },
      "execution_count": 39,
      "outputs": [
        {
          "output_type": "stream",
          "name": "stdout",
          "text": [
            "Enter a Number6\n",
            "6 x 1 = 6\n",
            "6 x 2 = 12\n",
            "6 x 3 = 18\n",
            "6 x 4 = 24\n",
            "6 x 5 = 30\n",
            "6 x 6 = 36\n",
            "6 x 7 = 42\n",
            "6 x 8 = 48\n",
            "6 x 9 = 54\n",
            "6 x 10 = 60\n"
          ]
        }
      ]
    },
    {
      "cell_type": "code",
      "source": [
        "n = int(input(\"Enter a Number\"))\n",
        "\n",
        "count = 10\n",
        "while count >=1:\n",
        "  product = n * count\n",
        "  print(n, \"x\" , count, \"=\", product)\n",
        "  count = count-1"
      ],
      "metadata": {
        "colab": {
          "base_uri": "https://localhost:8080/"
        },
        "id": "CHHUv_ofMJQn",
        "outputId": "e72cf819-d367-4c92-cb55-d9a2a47f4db6"
      },
      "execution_count": 44,
      "outputs": [
        {
          "output_type": "stream",
          "name": "stdout",
          "text": [
            "Enter a Number6\n",
            "6 x 10 = 60\n",
            "6 x 9 = 54\n",
            "6 x 8 = 48\n",
            "6 x 7 = 42\n",
            "6 x 6 = 36\n",
            "6 x 5 = 30\n",
            "6 x 4 = 24\n",
            "6 x 3 = 18\n",
            "6 x 2 = 12\n",
            "6 x 1 = 6\n"
          ]
        }
      ]
    },
    {
      "cell_type": "code",
      "source": [
        "text = \"Python\"\n",
        "\n",
        "for char in text:\n",
        "  print(char)"
      ],
      "metadata": {
        "colab": {
          "base_uri": "https://localhost:8080/"
        },
        "id": "Y6NPWJdQNH-o",
        "outputId": "eb18c655-2a80-4713-95aa-a9983ab8187c"
      },
      "execution_count": 46,
      "outputs": [
        {
          "output_type": "stream",
          "name": "stdout",
          "text": [
            "P\n",
            "y\n",
            "t\n",
            "h\n",
            "o\n",
            "n\n"
          ]
        }
      ]
    },
    {
      "cell_type": "code",
      "source": [
        "languages = [\"English\", \"French\", \"Hindi\"]\n",
        "\n",
        "for language in languages:\n",
        "  print(language)"
      ],
      "metadata": {
        "colab": {
          "base_uri": "https://localhost:8080/"
        },
        "id": "G4QCpbByOcSX",
        "outputId": "8ea39442-4e8f-4496-e9e5-d3439298d697"
      },
      "execution_count": 4,
      "outputs": [
        {
          "output_type": "stream",
          "name": "stdout",
          "text": [
            "English\n",
            "French\n",
            "Hindi\n"
          ]
        }
      ]
    },
    {
      "cell_type": "code",
      "source": [
        "#Python Range Function\n",
        "\n",
        "count = 1\n",
        "\n",
        "while <=5:\n",
        "  print(count)\n",
        "  count = count + 1"
      ],
      "metadata": {
        "colab": {
          "base_uri": "https://localhost:8080/",
          "height": 130
        },
        "id": "M-wUdjzhPCQ_",
        "outputId": "33d447b5-9231-4255-f85f-fcbd9fd07a43"
      },
      "execution_count": 6,
      "outputs": [
        {
          "output_type": "error",
          "ename": "SyntaxError",
          "evalue": "ignored",
          "traceback": [
            "\u001b[0;36m  File \u001b[0;32m\"<ipython-input-6-41d990a88f45>\"\u001b[0;36m, line \u001b[0;32m5\u001b[0m\n\u001b[0;31m    while <=5:\u001b[0m\n\u001b[0m           ^\u001b[0m\n\u001b[0;31mSyntaxError\u001b[0m\u001b[0;31m:\u001b[0m invalid syntax\n"
          ]
        }
      ]
    },
    {
      "cell_type": "code",
      "source": [
        "count = 1\n",
        "\n",
        "while count <= 5:\n",
        "  print(count)\n",
        "  count = count +1"
      ],
      "metadata": {
        "colab": {
          "base_uri": "https://localhost:8080/"
        },
        "id": "bEOgqevjPfi6",
        "outputId": "b612dc8b-0335-4416-cd57-ffe5f3eb212a"
      },
      "execution_count": 10,
      "outputs": [
        {
          "output_type": "stream",
          "name": "stdout",
          "text": [
            "1\n",
            "2\n",
            "3\n",
            "4\n",
            "5\n"
          ]
        }
      ]
    },
    {
      "cell_type": "code",
      "source": [
        "for count in range (1,6):\n",
        "  print(count)"
      ],
      "metadata": {
        "colab": {
          "base_uri": "https://localhost:8080/"
        },
        "id": "KPJZtQroPnRc",
        "outputId": "5339084b-359c-4516-e172-7e9eb06ce101"
      },
      "execution_count": 11,
      "outputs": [
        {
          "output_type": "stream",
          "name": "stdout",
          "text": [
            "1\n",
            "2\n",
            "3\n",
            "4\n",
            "5\n"
          ]
        }
      ]
    },
    {
      "cell_type": "code",
      "source": [
        "number = int(input(\"Enter an integer\"))\n",
        "\n",
        "for count in range (1,11):\n",
        "  product = number * count\n",
        "  print(number, \"x\", count, \"=\", product)"
      ],
      "metadata": {
        "colab": {
          "base_uri": "https://localhost:8080/"
        },
        "id": "RyvxUmiwP6Yq",
        "outputId": "3ac0e1e5-4338-48d1-860b-66773bca46c5"
      },
      "execution_count": 12,
      "outputs": [
        {
          "output_type": "stream",
          "name": "stdout",
          "text": [
            "Enter an integer9\n",
            "9 x 1 = 9\n",
            "9 x 2 = 18\n",
            "9 x 3 = 27\n",
            "9 x 4 = 36\n",
            "9 x 5 = 45\n",
            "9 x 6 = 54\n",
            "9 x 7 = 63\n",
            "9 x 8 = 72\n",
            "9 x 9 = 81\n",
            "9 x 10 = 90\n"
          ]
        }
      ]
    },
    {
      "cell_type": "code",
      "source": [
        "add = 0\n",
        "\n",
        "for num in range (1,101):\n",
        "  add = num + add\n",
        "print(add)"
      ],
      "metadata": {
        "colab": {
          "base_uri": "https://localhost:8080/"
        },
        "id": "c2zN6erVQTqD",
        "outputId": "e482710e-896a-4a74-fce1-8ecee2f78b03"
      },
      "execution_count": 20,
      "outputs": [
        {
          "output_type": "stream",
          "name": "stdout",
          "text": [
            "5050\n"
          ]
        }
      ]
    },
    {
      "cell_type": "code",
      "source": [
        "total = 0\n",
        "\n",
        "# looping from 1 to 100\n",
        "for number in range(1, 101):\n",
        "    total = total + number\n",
        "print(total)"
      ],
      "metadata": {
        "colab": {
          "base_uri": "https://localhost:8080/"
        },
        "id": "hXymshcORBTw",
        "outputId": "176164bc-87e1-4eab-df6c-749326934ce1"
      },
      "execution_count": 16,
      "outputs": [
        {
          "output_type": "stream",
          "name": "stdout",
          "text": [
            "5050\n"
          ]
        }
      ]
    },
    {
      "cell_type": "code",
      "source": [
        "bacon = 22\n"
      ],
      "metadata": {
        "id": "Qj_Tabh0Rds4"
      },
      "execution_count": 21,
      "outputs": []
    },
    {
      "cell_type": "code",
      "source": [
        "bacon"
      ],
      "metadata": {
        "colab": {
          "base_uri": "https://localhost:8080/"
        },
        "id": "DEhrLQZch3TS",
        "outputId": "fb92594a-374a-4070-e170-3bcfefbb5780"
      },
      "execution_count": 22,
      "outputs": [
        {
          "output_type": "execute_result",
          "data": {
            "text/plain": [
              "22"
            ]
          },
          "metadata": {},
          "execution_count": 22
        }
      ]
    },
    {
      "cell_type": "code",
      "source": [
        "'spam' + 'spamspam'"
      ],
      "metadata": {
        "colab": {
          "base_uri": "https://localhost:8080/",
          "height": 35
        },
        "id": "ItKwqrjvh4Bj",
        "outputId": "5091ea7f-b953-46db-a0ed-ea01edfb4eb0"
      },
      "execution_count": 23,
      "outputs": [
        {
          "output_type": "execute_result",
          "data": {
            "text/plain": [
              "'spamspamspam'"
            ],
            "application/vnd.google.colaboratory.intrinsic+json": {
              "type": "string"
            }
          },
          "metadata": {},
          "execution_count": 23
        }
      ]
    },
    {
      "cell_type": "code",
      "source": [
        "'spam' * 3 "
      ],
      "metadata": {
        "colab": {
          "base_uri": "https://localhost:8080/",
          "height": 35
        },
        "id": "KwQbCbLRiAR3",
        "outputId": "ec263ad1-814c-460f-82dc-e49eb21dec3b"
      },
      "execution_count": 24,
      "outputs": [
        {
          "output_type": "execute_result",
          "data": {
            "text/plain": [
              "'spamspamspam'"
            ],
            "application/vnd.google.colaboratory.intrinsic+json": {
              "type": "string"
            }
          },
          "metadata": {},
          "execution_count": 24
        }
      ]
    },
    {
      "cell_type": "code",
      "source": [
        "a = str(input(\"Number\"))\n",
        "print(type(a))\n"
      ],
      "metadata": {
        "colab": {
          "base_uri": "https://localhost:8080/"
        },
        "id": "6huZlmdXiE8F",
        "outputId": "a4a6409a-e260-4d9a-fd93-e200d905c87d"
      },
      "execution_count": 25,
      "outputs": [
        {
          "output_type": "stream",
          "name": "stdout",
          "text": [
            "Number4\n",
            "<class 'str'>\n"
          ]
        }
      ]
    },
    {
      "cell_type": "code",
      "source": [
        "'I have eaten ' + 99 + ' burritos.'"
      ],
      "metadata": {
        "id": "56stwtAui8W3"
      },
      "execution_count": null,
      "outputs": []
    },
    {
      "cell_type": "code",
      "source": [
        "#break and continue\n",
        "\n",
        "for item in range (1,6):\n",
        "  if item == 4:\n",
        "    break\n",
        "  print(item)\n",
        "print(\"The End\")"
      ],
      "metadata": {
        "colab": {
          "base_uri": "https://localhost:8080/"
        },
        "id": "1wetBWU1jGy9",
        "outputId": "48661ee4-31b1-4e39-d78a-9567b665b28c"
      },
      "execution_count": 27,
      "outputs": [
        {
          "output_type": "stream",
          "name": "stdout",
          "text": [
            "1\n",
            "2\n",
            "3\n",
            "The End\n"
          ]
        }
      ]
    },
    {
      "cell_type": "code",
      "source": [
        "while True:\n",
        "  num = float(input(\"Enter a number: \"))\n",
        "  if num <= 0:\n",
        "    break\n",
        "  print(\"You Entered: \", num)"
      ],
      "metadata": {
        "colab": {
          "base_uri": "https://localhost:8080/"
        },
        "id": "yHd2ut02noT6",
        "outputId": "e5aea099-965a-45e4-f6e7-28e3243f80b2"
      },
      "execution_count": 28,
      "outputs": [
        {
          "name": "stdout",
          "output_type": "stream",
          "text": [
            "Enter a number: 5\n",
            "You Entered:  5.0\n",
            "Enter a number: 6\n",
            "You Entered:  6.0\n",
            "Enter a number: 0\n"
          ]
        }
      ]
    },
    {
      "cell_type": "code",
      "source": [
        "for i in range(10):\n",
        "  num = float(input(\"enter a number: \"))\n",
        "  if num < 0:\n",
        "    continue\n",
        "  print(num)"
      ],
      "metadata": {
        "id": "pHW3rkZToHfW"
      },
      "execution_count": null,
      "outputs": []
    },
    {
      "cell_type": "code",
      "source": [
        "lan = [\"Python\", \"Java\", \"Swift\", \"C\", \"C++\"]\n",
        "\n",
        "for i in lan:\n",
        "  if i == \"Swift\" or i == \"C++\":\n",
        "    continue\n",
        "  print(i)"
      ],
      "metadata": {
        "colab": {
          "base_uri": "https://localhost:8080/"
        },
        "id": "bKiPLsJrpAHs",
        "outputId": "91cd8e77-5f57-4db7-c296-e78126af07e4"
      },
      "execution_count": 34,
      "outputs": [
        {
          "output_type": "stream",
          "name": "stdout",
          "text": [
            "Python\n",
            "Java\n",
            "C\n"
          ]
        }
      ]
    },
    {
      "cell_type": "code",
      "source": [
        ""
      ],
      "metadata": {
        "id": "_Iip_YKdp8zB"
      },
      "execution_count": null,
      "outputs": []
    }
  ]
}